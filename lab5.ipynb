{
 "cells": [
  {
   "attachments": {},
   "cell_type": "markdown",
   "metadata": {},
   "source": [
    "# Lab 5"
   ]
  },
  {
   "cell_type": "code",
   "execution_count": 1,
   "metadata": {},
   "outputs": [],
   "source": [
    "import torch\n",
    "import torchvision\n",
    "import matplotlib.pyplot as plot\n"
   ]
  },
  {
   "attachments": {},
   "cell_type": "markdown",
   "metadata": {},
   "source": [
    "#### Seed"
   ]
  },
  {
   "cell_type": "code",
   "execution_count": 2,
   "metadata": {},
   "outputs": [
    {
     "data": {
      "text/plain": [
       "<torch._C.Generator at 0x2085a4baf10>"
      ]
     },
     "execution_count": 2,
     "metadata": {},
     "output_type": "execute_result"
    }
   ],
   "source": [
    "torch.manual_seed(42)"
   ]
  },
  {
   "attachments": {},
   "cell_type": "markdown",
   "metadata": {},
   "source": [
    "#### Hyperparameters"
   ]
  },
  {
   "cell_type": "code",
   "execution_count": 3,
   "metadata": {},
   "outputs": [],
   "source": [
    "LEARNING_RATE = 0.01\n",
    "BATCH_SIZE = 128\n",
    "HIDDEN_LAYERS = 2\n",
    "WIDTH = 128\n",
    "ACT_FUNCTION = torch.nn.ReLU()\n",
    "EPOCHS = 20\n"
   ]
  },
  {
   "attachments": {},
   "cell_type": "markdown",
   "metadata": {},
   "source": [
    "#### Datasets"
   ]
  },
  {
   "cell_type": "code",
   "execution_count": 4,
   "metadata": {},
   "outputs": [],
   "source": [
    "dataset = torchvision.datasets.FashionMNIST(root='./data', download=True, transform=torchvision.transforms.ToTensor())\n",
    "train_dataset, val_dataset = torch.utils.data.random_split(dataset, [50000, 10000])\n"
   ]
  },
  {
   "attachments": {},
   "cell_type": "markdown",
   "metadata": {},
   "source": [
    "#### Dataloaders"
   ]
  },
  {
   "cell_type": "code",
   "execution_count": 5,
   "metadata": {},
   "outputs": [],
   "source": [
    "train_loader = torch.utils.data.DataLoader(train_dataset, batch_size=BATCH_SIZE, shuffle=True)\n",
    "val_loader = torch.utils.data.DataLoader(val_dataset, batch_size=BATCH_SIZE, shuffle=False)\n"
   ]
  },
  {
   "attachments": {},
   "cell_type": "markdown",
   "metadata": {},
   "source": [
    "#### Model architecture"
   ]
  },
  {
   "cell_type": "code",
   "execution_count": 6,
   "metadata": {},
   "outputs": [],
   "source": [
    "class MLP(torch.nn.Module):\n",
    "    def __init__(self, input_size, output_size, num_hidden_layers, width, activation_function):\n",
    "        super().__init__()\n",
    "        self.layers = torch.nn.ModuleList()\n",
    "        if num_hidden_layers == 0:\n",
    "            self.layers.append(torch.nn.Linear(input_size, output_size))\n",
    "        else:\n",
    "            self.layers.append(torch.nn.Linear(input_size, width))\n",
    "            for _ in range(num_hidden_layers - 1):\n",
    "                self.layers.append(torch.nn.Linear(width, width))\n",
    "            self.layers.append(torch.nn.Linear(width, output_size))\n",
    "        self.activation_function = activation_function\n",
    "\n",
    "    def forward(self, x):\n",
    "        x = x.view(x.size(0), -1)\n",
    "        for layer in self.layers[:-1]:\n",
    "            x = self.activation_function(layer(x))\n",
    "        x = self.layers[-1](x)\n",
    "        return x\n"
   ]
  },
  {
   "cell_type": "code",
   "execution_count": 7,
   "metadata": {},
   "outputs": [],
   "source": [
    "model = MLP(784, 10, HIDDEN_LAYERS, WIDTH, ACT_FUNCTION)\n",
    "criterion = torch.nn.CrossEntropyLoss()\n",
    "optimizer = torch.optim.SGD(model.parameters(), lr=LEARNING_RATE)\n"
   ]
  },
  {
   "attachments": {},
   "cell_type": "markdown",
   "metadata": {},
   "source": [
    "#### Training function"
   ]
  },
  {
   "cell_type": "code",
   "execution_count": 8,
   "metadata": {},
   "outputs": [],
   "source": [
    "def training(model, train_loader, criterion, optimizer):\n",
    "    model.train()\n",
    "    train_loss = 0.0\n",
    "    correct = 0\n",
    "    total = 0\n",
    "    for inputs, labels in train_loader:\n",
    "        optimizer.zero_grad()\n",
    "        outputs = model(inputs)\n",
    "        loss = criterion(outputs, labels)\n",
    "        loss.backward()\n",
    "        optimizer.step()\n",
    "        train_loss += loss.item() * inputs.size(0)\n",
    "        _, predicted = outputs.max(1)\n",
    "        correct += predicted.eq(labels).sum().item()\n",
    "        total += labels.size(0)\n",
    "    train_loss = train_loss / len(train_loader.dataset)\n",
    "    accuracy = 100.0 * correct / total\n",
    "    return train_loss, accuracy\n"
   ]
  },
  {
   "attachments": {},
   "cell_type": "markdown",
   "metadata": {},
   "source": [
    "#### Evaluation function"
   ]
  },
  {
   "cell_type": "code",
   "execution_count": 9,
   "metadata": {},
   "outputs": [],
   "source": [
    "def evaluation(model, val_loader, criterion):\n",
    "    model.eval()\n",
    "    val_loss = 0.0\n",
    "    correct = 0\n",
    "    total = 0\n",
    "    with torch.no_grad():\n",
    "        for inputs, labels in val_loader:\n",
    "            outputs = model(inputs)\n",
    "            loss = criterion(outputs, labels)\n",
    "            val_loss += loss.item() * inputs.size(0)\n",
    "            _, predicted = outputs.max(1)\n",
    "            correct += predicted.eq(labels).sum().item()\n",
    "            total += labels.size(0)\n",
    "    val_loss = val_loss / len(val_loader.dataset)\n",
    "    accuracy = 100.0 * correct / total\n",
    "    return val_loss, accuracy\n"
   ]
  },
  {
   "cell_type": "code",
   "execution_count": 10,
   "metadata": {},
   "outputs": [
    {
     "name": "stdout",
     "output_type": "stream",
     "text": [
      "Epoch 1, Train Loss: 1.9196, Train Accuracy: 40.33%, Val Loss: 1.3682, Val Accuracy: 62.26%\n",
      "Epoch 2, Train Loss: 1.0593, Train Accuracy: 66.04%, Val Loss: 0.8837, Val Accuracy: 67.79%\n",
      "Epoch 3, Train Loss: 0.7962, Train Accuracy: 70.97%, Val Loss: 0.7489, Val Accuracy: 72.42%\n",
      "Epoch 4, Train Loss: 0.7017, Train Accuracy: 74.77%, Val Loss: 0.6758, Val Accuracy: 75.89%\n",
      "Epoch 5, Train Loss: 0.6418, Train Accuracy: 77.56%, Val Loss: 0.6376, Val Accuracy: 77.26%\n",
      "Epoch 6, Train Loss: 0.5969, Train Accuracy: 79.38%, Val Loss: 0.6004, Val Accuracy: 78.71%\n",
      "Epoch 7, Train Loss: 0.5635, Train Accuracy: 80.60%, Val Loss: 0.5624, Val Accuracy: 80.42%\n",
      "Epoch 8, Train Loss: 0.5380, Train Accuracy: 81.46%, Val Loss: 0.5400, Val Accuracy: 81.19%\n",
      "Epoch 9, Train Loss: 0.5189, Train Accuracy: 82.07%, Val Loss: 0.5322, Val Accuracy: 81.79%\n",
      "Epoch 10, Train Loss: 0.5036, Train Accuracy: 82.57%, Val Loss: 0.5207, Val Accuracy: 81.85%\n",
      "Epoch 11, Train Loss: 0.4905, Train Accuracy: 82.91%, Val Loss: 0.5077, Val Accuracy: 82.23%\n",
      "Epoch 12, Train Loss: 0.4796, Train Accuracy: 83.24%, Val Loss: 0.5022, Val Accuracy: 82.22%\n",
      "Epoch 13, Train Loss: 0.4720, Train Accuracy: 83.47%, Val Loss: 0.4899, Val Accuracy: 83.10%\n",
      "Epoch 14, Train Loss: 0.4638, Train Accuracy: 83.75%, Val Loss: 0.4739, Val Accuracy: 83.51%\n",
      "Epoch 15, Train Loss: 0.4571, Train Accuracy: 84.03%, Val Loss: 0.4678, Val Accuracy: 83.83%\n",
      "Epoch 16, Train Loss: 0.4516, Train Accuracy: 84.22%, Val Loss: 0.4669, Val Accuracy: 83.58%\n",
      "Epoch 17, Train Loss: 0.4459, Train Accuracy: 84.30%, Val Loss: 0.4714, Val Accuracy: 83.21%\n",
      "Epoch 18, Train Loss: 0.4402, Train Accuracy: 84.65%, Val Loss: 0.4681, Val Accuracy: 84.05%\n",
      "Epoch 19, Train Loss: 0.4367, Train Accuracy: 84.76%, Val Loss: 0.4501, Val Accuracy: 84.25%\n",
      "Epoch 20, Train Loss: 0.4329, Train Accuracy: 84.92%, Val Loss: 0.4540, Val Accuracy: 84.38%\n"
     ]
    }
   ],
   "source": [
    "train_losses = []\n",
    "train_accuracies = []\n",
    "val_losses = []\n",
    "val_accuracies = []\n",
    "\n",
    "for epoch in range(EPOCHS):\n",
    "    train_loss, train_accuracy = training(model, train_loader, criterion, optimizer)\n",
    "    val_loss, val_accuracy = evaluation(model, val_loader, criterion)\n",
    "\n",
    "    train_losses.append(train_loss)\n",
    "    train_accuracies.append(train_accuracy)\n",
    "    val_losses.append(val_loss)\n",
    "    val_accuracies.append(val_accuracy)\n",
    "\n",
    "    print(f\"Epoch {epoch+1}, Train Loss: {train_loss:.4f}, Train Accuracy: {train_accuracy:.2f}%, Val Loss: {val_loss:.4f}, Val Accuracy: {val_accuracy:.2f}%\")\n"
   ]
  },
  {
   "cell_type": "code",
   "execution_count": 11,
   "metadata": {},
   "outputs": [
    {
     "data": {
      "image/png": "[encoded data removed]",
      "text/plain": [
       "<Figure size 432x288 with 1 Axes>"
      ]
     },
     "metadata": {
      "needs_background": "light"
     },
     "output_type": "display_data"
    },
    {
     "data": {
      "image/png": "[encoded data removed]",
      "text/plain": [
       "<Figure size 432x288 with 1 Axes>"
      ]
     },
     "metadata": {
      "needs_background": "light"
     },
     "output_type": "display_data"
    }
   ],
   "source": [
    "plot.figure()\n",
    "plot.title(\"Training and Validation Loss\")\n",
    "plot.plot(train_losses, label=\"Training Loss\")\n",
    "plot.plot(val_losses, label=\"Validation Loss\")\n",
    "plot.xlabel(\"Epoch\")\n",
    "plot.ylabel(\"Loss\")\n",
    "plot.legend()\n",
    "plot.show()\n",
    "\n",
    "plot.figure()\n",
    "plot.title(\"Training and Validation Accuracy\")\n",
    "plot.plot(train_accuracies, label=\"Training Accuracy\")\n",
    "plot.plot(val_accuracies, label=\"Validation Accuracy\")\n",
    "plot.xlabel(\"Epoch\")\n",
    "plot.ylabel(\"Accuracy\")\n",
    "plot.legend()\n",
    "plot.show()\n"
   ]
  }
 ],
 "metadata": {
  "kernelspec": {
   "display_name": "Python 3",
   "language": "python",
   "name": "python3"
  },
  "language_info": {
   "codemirror_mode": {
    "name": "ipython",
    "version": 3
   },
   "file_extension": ".py",
   "mimetype": "text/x-python",
   "name": "python",
   "nbconvert_exporter": "python",
   "pygments_lexer": "ipython3",
   "version": "3.9.13"
  },
  "orig_nbformat": 4
 },
 "nbformat": 4,
 "nbformat_minor": 2
}
